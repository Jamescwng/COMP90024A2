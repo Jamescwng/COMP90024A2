{
 "cells": [
  {
   "cell_type": "raw",
   "id": "02d1c3eb",
   "metadata": {},
   "source": [
    "https://medium.com/@prabowoyogawicaksana/elon-musks-twitter-sentiment-analysis-with-transformers-hugging-face-roberta-49b9e61b1433\n",
    "\n",
    "https://huggingface.co/cardiffnlp/twitter-roberta-base-sentiment-latest\n",
    "\n",
    "https://huggingface.co/blog/sentiment-analysis-python"
   ]
  },
  {
   "cell_type": "code",
   "execution_count": 1,
   "id": "57339280",
   "metadata": {},
   "outputs": [],
   "source": [
    "import couchdb\n",
    "import random\n",
    "import pandas as pd\n",
    "import numpy as np\n",
    "from scipy.special import softmax"
   ]
  },
  {
   "cell_type": "code",
   "execution_count": 2,
   "id": "a1ef1ead",
   "metadata": {},
   "outputs": [],
   "source": [
    "user = \"admin\"\n",
    "password = \"admin\"\n",
    "couchserver = couchdb.Server(\"http://%s:%s@172.26.134.187:5984/\" % (user, password))"
   ]
  },
  {
   "cell_type": "code",
   "execution_count": 3,
   "id": "fb104edb",
   "metadata": {},
   "outputs": [],
   "source": [
    "db = couchserver['twitter']\n",
    "rows = db.view('_design/Data/_view/Sentiment')"
   ]
  },
  {
   "cell_type": "code",
   "execution_count": 4,
   "id": "08fe98e7",
   "metadata": {},
   "outputs": [],
   "source": [
    "tweets = []\n",
    "\n",
    "for row in rows:\n",
    "    try:\n",
    "        sentiment = row['value']['sentiment'][0]\n",
    "        confidence = row['value']['sentiment'][1]\n",
    "        if (float(confidence) > 0.8) and (sentiment == 'Positive' or sentiment == 'Negative'):\n",
    "        #if sentiment == 'Positive':\n",
    "            #tweets.append((row['value']['tweet'], row['value']['geo'][0], row['value']['geo'][1], row['value']['sentiment'][0], row['value']['sentiment'][1]))\n",
    "            tweets.append((row['value']['tweet'], row['value']['sentiment'][0]))\n",
    "    except:\n",
    "        pass"
   ]
  },
  {
   "cell_type": "code",
   "execution_count": 5,
   "id": "1b5aa509",
   "metadata": {},
   "outputs": [
    {
     "data": {
      "text/html": [
       "<div>\n",
       "<style scoped>\n",
       "    .dataframe tbody tr th:only-of-type {\n",
       "        vertical-align: middle;\n",
       "    }\n",
       "\n",
       "    .dataframe tbody tr th {\n",
       "        vertical-align: top;\n",
       "    }\n",
       "\n",
       "    .dataframe thead th {\n",
       "        text-align: right;\n",
       "    }\n",
       "</style>\n",
       "<table border=\"1\" class=\"dataframe\">\n",
       "  <thead>\n",
       "    <tr style=\"text-align: right;\">\n",
       "      <th></th>\n",
       "      <th>0</th>\n",
       "      <th>1</th>\n",
       "    </tr>\n",
       "  </thead>\n",
       "  <tbody>\n",
       "    <tr>\n",
       "      <th>0</th>\n",
       "      <td>Happy 6th Birthday to this cheeky girl! #cat #...</td>\n",
       "      <td>Positive</td>\n",
       "    </tr>\n",
       "    <tr>\n",
       "      <th>1</th>\n",
       "      <td>Colourful things. Things of sea and air. I nee...</td>\n",
       "      <td>Positive</td>\n",
       "    </tr>\n",
       "    <tr>\n",
       "      <th>2</th>\n",
       "      <td>Finally home</td>\n",
       "      <td>Positive</td>\n",
       "    </tr>\n",
       "    <tr>\n",
       "      <th>3</th>\n",
       "      <td>Would always think fresh grilled cheese wpild ...</td>\n",
       "      <td>Positive</td>\n",
       "    </tr>\n",
       "    <tr>\n",
       "      <th>4</th>\n",
       "      <td>@toastling cool friend, let's try to find a da...</td>\n",
       "      <td>Positive</td>\n",
       "    </tr>\n",
       "    <tr>\n",
       "      <th>...</th>\n",
       "      <td>...</td>\n",
       "      <td>...</td>\n",
       "    </tr>\n",
       "    <tr>\n",
       "      <th>70162</th>\n",
       "      <td>@smurf_lola12 glad you are still loving the mo...</td>\n",
       "      <td>Positive</td>\n",
       "    </tr>\n",
       "    <tr>\n",
       "      <th>70163</th>\n",
       "      <td>“@girlposts: I NEED TO SEE THIS MOVIE https://...</td>\n",
       "      <td>Negative</td>\n",
       "    </tr>\n",
       "    <tr>\n",
       "      <th>70164</th>\n",
       "      <td>Massages are the best 👌</td>\n",
       "      <td>Positive</td>\n",
       "    </tr>\n",
       "    <tr>\n",
       "      <th>70165</th>\n",
       "      <td>This was a brilliant show on Sunday @shadowele...</td>\n",
       "      <td>Positive</td>\n",
       "    </tr>\n",
       "    <tr>\n",
       "      <th>70166</th>\n",
       "      <td>Rushed to catch the end of #ifyouaretheone and...</td>\n",
       "      <td>Negative</td>\n",
       "    </tr>\n",
       "  </tbody>\n",
       "</table>\n",
       "<p>70167 rows × 2 columns</p>\n",
       "</div>"
      ],
      "text/plain": [
       "                                                       0         1\n",
       "0      Happy 6th Birthday to this cheeky girl! #cat #...  Positive\n",
       "1      Colourful things. Things of sea and air. I nee...  Positive\n",
       "2                                           Finally home  Positive\n",
       "3      Would always think fresh grilled cheese wpild ...  Positive\n",
       "4      @toastling cool friend, let's try to find a da...  Positive\n",
       "...                                                  ...       ...\n",
       "70162  @smurf_lola12 glad you are still loving the mo...  Positive\n",
       "70163  “@girlposts: I NEED TO SEE THIS MOVIE https://...  Negative\n",
       "70164                            Massages are the best 👌  Positive\n",
       "70165  This was a brilliant show on Sunday @shadowele...  Positive\n",
       "70166  Rushed to catch the end of #ifyouaretheone and...  Negative\n",
       "\n",
       "[70167 rows x 2 columns]"
      ]
     },
     "execution_count": 5,
     "metadata": {},
     "output_type": "execute_result"
    }
   ],
   "source": [
    "tweets = pd.DataFrame(tweets)\n",
    "tweets"
   ]
  },
  {
   "cell_type": "code",
   "execution_count": 6,
   "id": "89290cd3",
   "metadata": {},
   "outputs": [],
   "source": [
    "numTweets = 10000"
   ]
  },
  {
   "cell_type": "code",
   "execution_count": 7,
   "id": "3078258a",
   "metadata": {},
   "outputs": [],
   "source": [
    "data = pd.DataFrame(tweets).rename({0: \"tweet\", 1: \"sentiment\"}, axis='columns')#[:numTweets]"
   ]
  },
  {
   "cell_type": "code",
   "execution_count": 8,
   "id": "c752634e",
   "metadata": {},
   "outputs": [
    {
     "data": {
      "text/html": [
       "<div>\n",
       "<style scoped>\n",
       "    .dataframe tbody tr th:only-of-type {\n",
       "        vertical-align: middle;\n",
       "    }\n",
       "\n",
       "    .dataframe tbody tr th {\n",
       "        vertical-align: top;\n",
       "    }\n",
       "\n",
       "    .dataframe thead th {\n",
       "        text-align: right;\n",
       "    }\n",
       "</style>\n",
       "<table border=\"1\" class=\"dataframe\">\n",
       "  <thead>\n",
       "    <tr style=\"text-align: right;\">\n",
       "      <th></th>\n",
       "      <th>tweet</th>\n",
       "      <th>sentiment</th>\n",
       "    </tr>\n",
       "  </thead>\n",
       "  <tbody>\n",
       "    <tr>\n",
       "      <th>0</th>\n",
       "      <td>Happy 6th Birthday to this cheeky girl! #cat #...</td>\n",
       "      <td>Positive</td>\n",
       "    </tr>\n",
       "    <tr>\n",
       "      <th>1</th>\n",
       "      <td>Colourful things. Things of sea and air. I nee...</td>\n",
       "      <td>Positive</td>\n",
       "    </tr>\n",
       "    <tr>\n",
       "      <th>2</th>\n",
       "      <td>Finally home</td>\n",
       "      <td>Positive</td>\n",
       "    </tr>\n",
       "    <tr>\n",
       "      <th>3</th>\n",
       "      <td>Would always think fresh grilled cheese wpild ...</td>\n",
       "      <td>Positive</td>\n",
       "    </tr>\n",
       "    <tr>\n",
       "      <th>4</th>\n",
       "      <td>@toastling cool friend, let's try to find a da...</td>\n",
       "      <td>Positive</td>\n",
       "    </tr>\n",
       "    <tr>\n",
       "      <th>...</th>\n",
       "      <td>...</td>\n",
       "      <td>...</td>\n",
       "    </tr>\n",
       "    <tr>\n",
       "      <th>70162</th>\n",
       "      <td>@smurf_lola12 glad you are still loving the mo...</td>\n",
       "      <td>Positive</td>\n",
       "    </tr>\n",
       "    <tr>\n",
       "      <th>70163</th>\n",
       "      <td>“@girlposts: I NEED TO SEE THIS MOVIE https://...</td>\n",
       "      <td>Negative</td>\n",
       "    </tr>\n",
       "    <tr>\n",
       "      <th>70164</th>\n",
       "      <td>Massages are the best 👌</td>\n",
       "      <td>Positive</td>\n",
       "    </tr>\n",
       "    <tr>\n",
       "      <th>70165</th>\n",
       "      <td>This was a brilliant show on Sunday @shadowele...</td>\n",
       "      <td>Positive</td>\n",
       "    </tr>\n",
       "    <tr>\n",
       "      <th>70166</th>\n",
       "      <td>Rushed to catch the end of #ifyouaretheone and...</td>\n",
       "      <td>Negative</td>\n",
       "    </tr>\n",
       "  </tbody>\n",
       "</table>\n",
       "<p>70167 rows × 2 columns</p>\n",
       "</div>"
      ],
      "text/plain": [
       "                                                   tweet sentiment\n",
       "0      Happy 6th Birthday to this cheeky girl! #cat #...  Positive\n",
       "1      Colourful things. Things of sea and air. I nee...  Positive\n",
       "2                                           Finally home  Positive\n",
       "3      Would always think fresh grilled cheese wpild ...  Positive\n",
       "4      @toastling cool friend, let's try to find a da...  Positive\n",
       "...                                                  ...       ...\n",
       "70162  @smurf_lola12 glad you are still loving the mo...  Positive\n",
       "70163  “@girlposts: I NEED TO SEE THIS MOVIE https://...  Negative\n",
       "70164                            Massages are the best 👌  Positive\n",
       "70165  This was a brilliant show on Sunday @shadowele...  Positive\n",
       "70166  Rushed to catch the end of #ifyouaretheone and...  Negative\n",
       "\n",
       "[70167 rows x 2 columns]"
      ]
     },
     "execution_count": 8,
     "metadata": {},
     "output_type": "execute_result"
    }
   ],
   "source": [
    "dfSentiment = data.copy(deep=True)\n",
    "dfSentiment"
   ]
  },
  {
   "cell_type": "code",
   "execution_count": 9,
   "id": "31f183c3",
   "metadata": {},
   "outputs": [
    {
     "name": "stderr",
     "output_type": "stream",
     "text": [
      "[nltk_data] Downloading package stopwords to\n",
      "[nltk_data]     /Users/m.rossi/nltk_data...\n",
      "[nltk_data]   Package stopwords is already up-to-date!\n"
     ]
    }
   ],
   "source": [
    "import re\n",
    "import nltk\n",
    "nltk.download('stopwords')\n",
    "from nltk.corpus import stopwords\n",
    "from nltk.tokenize import RegexpTokenizer\n",
    "\n",
    "# remove hashtags\n",
    "def hashtags(text):\n",
    "  hash = re.findall(r\"#(\\w+)\", text)\n",
    "  return hash"
   ]
  },
  {
   "cell_type": "code",
   "execution_count": 10,
   "id": "f583fe3c",
   "metadata": {},
   "outputs": [],
   "source": [
    "from emot.emo_unicode import UNICODE_EMOJI, EMOTICONS_EMO\n",
    "# translate emoji\n",
    "def emoji(text):\n",
    "  for emot in UNICODE_EMOJI:\n",
    "    if text == None:\n",
    "      text = text\n",
    "    else:\n",
    "      text = text.replace(emot, \"_\".join(UNICODE_EMOJI[emot].replace(\",\", \"\").replace(\":\", \"\").split()))\n",
    "    return text"
   ]
  },
  {
   "cell_type": "code",
   "execution_count": 11,
   "id": "170e2e2c",
   "metadata": {},
   "outputs": [],
   "source": [
    "# remove retweet username and tweeted at @username\n",
    "def remove_users(tweet):\n",
    "  '''Takes a string and removes retweet and @user information'''\n",
    "  tweet = re.sub('(@[A-Za-z]+[A-Za-z0-9-_]+)', '', tweet) \n",
    "  # remove tweeted at\n",
    "  return tweet"
   ]
  },
  {
   "cell_type": "code",
   "execution_count": 12,
   "id": "258e068a",
   "metadata": {},
   "outputs": [],
   "source": [
    "# remove links\n",
    "def remove_links(tweet):\n",
    "  '''Takes a string and removes web links from it'''\n",
    "  tweet = re.sub(r'http\\S+', '', tweet) # remove http links\n",
    "  tweet = re.sub(r'bit.ly/\\S+', '', tweet) # remove bitly links\n",
    "  tweet = tweet.strip('[link]') # remove [links]\n",
    "  return tweet\n",
    "def clean_html(text):\n",
    "  html = re.compile('<.*?>')#regex\n",
    "  return html.sub(r'',text)"
   ]
  },
  {
   "cell_type": "code",
   "execution_count": 13,
   "id": "43afcab1",
   "metadata": {},
   "outputs": [],
   "source": [
    "# remove non ascii character\n",
    "def non_ascii(s):\n",
    "  return \"\".join(i for i in s if ord(i)<128)\n",
    "\n",
    "def lower(text):\n",
    "  return text.lower()"
   ]
  },
  {
   "cell_type": "code",
   "execution_count": 14,
   "id": "e2b98cef",
   "metadata": {},
   "outputs": [],
   "source": [
    "# remove email address\n",
    "def email_address(text):\n",
    "  email = re.compile(r'[\\w\\.-]+@[\\w\\.-]+')\n",
    "  return email.sub(r'',text)\n",
    "\n",
    "def punct(text):\n",
    "  token=RegexpTokenizer(r'\\w+')#regex\n",
    "  text = token.tokenize(text)\n",
    "  text= \" \".join(text)\n",
    "  return text "
   ]
  },
  {
   "cell_type": "code",
   "execution_count": 15,
   "id": "e51ad188",
   "metadata": {},
   "outputs": [],
   "source": [
    "# remove stopwords\n",
    "def removeStopWords(str):\n",
    "#select english stopwords\n",
    "  cachedStopWords = set(stopwords.words(\"english\"))\n",
    "#add custom words\n",
    "  cachedStopWords.update(('and','I','A','http','And','So','arnt','This','When','It','many','Many','so','cant','Yes','yes','No','no','These','these','mailto','regards','ayanna','like','email'))\n",
    "#remove stop words\n",
    "  new_str = ' '.join([word for word in str.split() if word not in cachedStopWords]) \n",
    "  return new_str"
   ]
  },
  {
   "cell_type": "code",
   "execution_count": 16,
   "id": "936aab14",
   "metadata": {},
   "outputs": [],
   "source": [
    "# special characters removal\n",
    "def remove_(tweet):\n",
    "  tweet = re.sub('([_]+)', \"\", tweet)\n",
    "  return tweet"
   ]
  },
  {
   "cell_type": "code",
   "execution_count": 17,
   "id": "489dc77e",
   "metadata": {},
   "outputs": [],
   "source": [
    "#apply all the functions above\n",
    "#dfSentiment['hashtag'] = dfSentiment.tweet.apply(func = hashtags)\n",
    "dfSentiment['new_tweet'] = dfSentiment.tweet.apply(func = emoji)\n",
    "dfSentiment['new_tweet'] = dfSentiment.new_tweet.apply(func = remove_users)\n",
    "dfSentiment['new_tweet'] = dfSentiment.new_tweet.apply(func = clean_html)\n",
    "dfSentiment['new_tweet'] = dfSentiment.new_tweet.apply(func = remove_links)\n",
    "dfSentiment['new_tweet'] = dfSentiment.new_tweet.apply(func = non_ascii)\n",
    "dfSentiment['new_tweet'] = dfSentiment.new_tweet.apply(func = lower)\n",
    "dfSentiment['new_tweet'] = dfSentiment.new_tweet.apply(func = email_address)\n",
    "dfSentiment['new_tweet'] = dfSentiment.new_tweet.apply(func = removeStopWords)\n",
    "dfSentiment['new_tweet'] = dfSentiment.new_tweet.apply(func = clean_html)\n",
    "dfSentiment['new_tweet'] = dfSentiment.new_tweet.apply(func = punct)\n",
    "dfSentiment['new_tweet'] = dfSentiment.new_tweet.apply(func = remove_)"
   ]
  },
  {
   "cell_type": "code",
   "execution_count": 18,
   "id": "dd527ad1",
   "metadata": {},
   "outputs": [
    {
     "data": {
      "text/html": [
       "<div>\n",
       "<style scoped>\n",
       "    .dataframe tbody tr th:only-of-type {\n",
       "        vertical-align: middle;\n",
       "    }\n",
       "\n",
       "    .dataframe tbody tr th {\n",
       "        vertical-align: top;\n",
       "    }\n",
       "\n",
       "    .dataframe thead th {\n",
       "        text-align: right;\n",
       "    }\n",
       "</style>\n",
       "<table border=\"1\" class=\"dataframe\">\n",
       "  <thead>\n",
       "    <tr style=\"text-align: right;\">\n",
       "      <th></th>\n",
       "      <th>tweet</th>\n",
       "      <th>sentiment</th>\n",
       "      <th>new_tweet</th>\n",
       "    </tr>\n",
       "  </thead>\n",
       "  <tbody>\n",
       "    <tr>\n",
       "      <th>0</th>\n",
       "      <td>Happy 6th Birthday to this cheeky girl! #cat #...</td>\n",
       "      <td>Positive</td>\n",
       "      <td>happy 6th birthday cheeky girl cat maxxie goos...</td>\n",
       "    </tr>\n",
       "    <tr>\n",
       "      <th>1</th>\n",
       "      <td>Colourful things. Things of sea and air. I nee...</td>\n",
       "      <td>Positive</td>\n",
       "      <td>colourful things things sea air needed splash ...</td>\n",
       "    </tr>\n",
       "    <tr>\n",
       "      <th>2</th>\n",
       "      <td>Finally home</td>\n",
       "      <td>Positive</td>\n",
       "      <td>finally home</td>\n",
       "    </tr>\n",
       "    <tr>\n",
       "      <th>3</th>\n",
       "      <td>Would always think fresh grilled cheese wpild ...</td>\n",
       "      <td>Positive</td>\n",
       "      <td>would always think fresh grilled cheese wpild ...</td>\n",
       "    </tr>\n",
       "    <tr>\n",
       "      <th>4</th>\n",
       "      <td>@toastling cool friend, let's try to find a da...</td>\n",
       "      <td>Positive</td>\n",
       "      <td>cool friend let s try find day hang next time ...</td>\n",
       "    </tr>\n",
       "    <tr>\n",
       "      <th>...</th>\n",
       "      <td>...</td>\n",
       "      <td>...</td>\n",
       "      <td>...</td>\n",
       "    </tr>\n",
       "    <tr>\n",
       "      <th>70162</th>\n",
       "      <td>@smurf_lola12 glad you are still loving the mo...</td>\n",
       "      <td>Positive</td>\n",
       "      <td>glad still loving movie</td>\n",
       "    </tr>\n",
       "    <tr>\n",
       "      <th>70163</th>\n",
       "      <td>“@girlposts: I NEED TO SEE THIS MOVIE https://...</td>\n",
       "      <td>Negative</td>\n",
       "      <td>need see movie watching trailer makes cry</td>\n",
       "    </tr>\n",
       "    <tr>\n",
       "      <th>70164</th>\n",
       "      <td>Massages are the best 👌</td>\n",
       "      <td>Positive</td>\n",
       "      <td>massages best</td>\n",
       "    </tr>\n",
       "    <tr>\n",
       "      <th>70165</th>\n",
       "      <td>This was a brilliant show on Sunday @shadowele...</td>\n",
       "      <td>Positive</td>\n",
       "      <td>brilliant show sunday alexcameron indeed took ...</td>\n",
       "    </tr>\n",
       "    <tr>\n",
       "      <th>70166</th>\n",
       "      <td>Rushed to catch the end of #ifyouaretheone and...</td>\n",
       "      <td>Negative</td>\n",
       "      <td>rushed catch end ifyouaretheone entered truly ...</td>\n",
       "    </tr>\n",
       "  </tbody>\n",
       "</table>\n",
       "<p>70167 rows × 3 columns</p>\n",
       "</div>"
      ],
      "text/plain": [
       "                                                   tweet sentiment  \\\n",
       "0      Happy 6th Birthday to this cheeky girl! #cat #...  Positive   \n",
       "1      Colourful things. Things of sea and air. I nee...  Positive   \n",
       "2                                           Finally home  Positive   \n",
       "3      Would always think fresh grilled cheese wpild ...  Positive   \n",
       "4      @toastling cool friend, let's try to find a da...  Positive   \n",
       "...                                                  ...       ...   \n",
       "70162  @smurf_lola12 glad you are still loving the mo...  Positive   \n",
       "70163  “@girlposts: I NEED TO SEE THIS MOVIE https://...  Negative   \n",
       "70164                            Massages are the best 👌  Positive   \n",
       "70165  This was a brilliant show on Sunday @shadowele...  Positive   \n",
       "70166  Rushed to catch the end of #ifyouaretheone and...  Negative   \n",
       "\n",
       "                                               new_tweet  \n",
       "0      happy 6th birthday cheeky girl cat maxxie goos...  \n",
       "1      colourful things things sea air needed splash ...  \n",
       "2                                           finally home  \n",
       "3      would always think fresh grilled cheese wpild ...  \n",
       "4      cool friend let s try find day hang next time ...  \n",
       "...                                                  ...  \n",
       "70162                            glad still loving movie  \n",
       "70163          need see movie watching trailer makes cry  \n",
       "70164                                      massages best  \n",
       "70165  brilliant show sunday alexcameron indeed took ...  \n",
       "70166  rushed catch end ifyouaretheone entered truly ...  \n",
       "\n",
       "[70167 rows x 3 columns]"
      ]
     },
     "execution_count": 18,
     "metadata": {},
     "output_type": "execute_result"
    }
   ],
   "source": [
    "dfSentiment"
   ]
  },
  {
   "cell_type": "markdown",
   "id": "5d46cb69",
   "metadata": {},
   "source": [
    "### Topic Modelling - Positive Tweets"
   ]
  },
  {
   "cell_type": "raw",
   "id": "322b2a4d",
   "metadata": {},
   "source": [
    "https://towardsdatascience.com/topic-modeling-with-bert-779f7db187e6"
   ]
  },
  {
   "cell_type": "code",
   "execution_count": 21,
   "id": "4fc0682e",
   "metadata": {},
   "outputs": [],
   "source": [
    "from sentence_transformers import SentenceTransformer\n",
    "model = SentenceTransformer('distilbert-base-nli-mean-tokens')"
   ]
  },
  {
   "cell_type": "code",
   "execution_count": 19,
   "id": "c7d82026",
   "metadata": {},
   "outputs": [
    {
     "data": {
      "text/html": [
       "<div>\n",
       "<style scoped>\n",
       "    .dataframe tbody tr th:only-of-type {\n",
       "        vertical-align: middle;\n",
       "    }\n",
       "\n",
       "    .dataframe tbody tr th {\n",
       "        vertical-align: top;\n",
       "    }\n",
       "\n",
       "    .dataframe thead th {\n",
       "        text-align: right;\n",
       "    }\n",
       "</style>\n",
       "<table border=\"1\" class=\"dataframe\">\n",
       "  <thead>\n",
       "    <tr style=\"text-align: right;\">\n",
       "      <th></th>\n",
       "      <th>tweet</th>\n",
       "      <th>sentiment</th>\n",
       "      <th>new_tweet</th>\n",
       "    </tr>\n",
       "  </thead>\n",
       "  <tbody>\n",
       "    <tr>\n",
       "      <th>0</th>\n",
       "      <td>Happy 6th Birthday to this cheeky girl! #cat #...</td>\n",
       "      <td>Positive</td>\n",
       "      <td>happy 6th birthday cheeky girl cat maxxie goos...</td>\n",
       "    </tr>\n",
       "    <tr>\n",
       "      <th>1</th>\n",
       "      <td>Colourful things. Things of sea and air. I nee...</td>\n",
       "      <td>Positive</td>\n",
       "      <td>colourful things things sea air needed splash ...</td>\n",
       "    </tr>\n",
       "    <tr>\n",
       "      <th>2</th>\n",
       "      <td>Finally home</td>\n",
       "      <td>Positive</td>\n",
       "      <td>finally home</td>\n",
       "    </tr>\n",
       "    <tr>\n",
       "      <th>3</th>\n",
       "      <td>Would always think fresh grilled cheese wpild ...</td>\n",
       "      <td>Positive</td>\n",
       "      <td>would always think fresh grilled cheese wpild ...</td>\n",
       "    </tr>\n",
       "    <tr>\n",
       "      <th>4</th>\n",
       "      <td>@toastling cool friend, let's try to find a da...</td>\n",
       "      <td>Positive</td>\n",
       "      <td>cool friend let s try find day hang next time ...</td>\n",
       "    </tr>\n",
       "    <tr>\n",
       "      <th>...</th>\n",
       "      <td>...</td>\n",
       "      <td>...</td>\n",
       "      <td>...</td>\n",
       "    </tr>\n",
       "    <tr>\n",
       "      <th>70160</th>\n",
       "      <td>Man I'm obsessed with them http://t.co/r0cacrWKN6</td>\n",
       "      <td>Positive</td>\n",
       "      <td>man i m obsessed</td>\n",
       "    </tr>\n",
       "    <tr>\n",
       "      <th>70161</th>\n",
       "      <td>Looking forward to @ChangeDayAus celebrations ...</td>\n",
       "      <td>Positive</td>\n",
       "      <td>looking forward celebrations tomorrow</td>\n",
       "    </tr>\n",
       "    <tr>\n",
       "      <th>70162</th>\n",
       "      <td>@smurf_lola12 glad you are still loving the mo...</td>\n",
       "      <td>Positive</td>\n",
       "      <td>glad still loving movie</td>\n",
       "    </tr>\n",
       "    <tr>\n",
       "      <th>70164</th>\n",
       "      <td>Massages are the best 👌</td>\n",
       "      <td>Positive</td>\n",
       "      <td>massages best</td>\n",
       "    </tr>\n",
       "    <tr>\n",
       "      <th>70165</th>\n",
       "      <td>This was a brilliant show on Sunday @shadowele...</td>\n",
       "      <td>Positive</td>\n",
       "      <td>brilliant show sunday alexcameron indeed took ...</td>\n",
       "    </tr>\n",
       "  </tbody>\n",
       "</table>\n",
       "<p>50097 rows × 3 columns</p>\n",
       "</div>"
      ],
      "text/plain": [
       "                                                   tweet sentiment  \\\n",
       "0      Happy 6th Birthday to this cheeky girl! #cat #...  Positive   \n",
       "1      Colourful things. Things of sea and air. I nee...  Positive   \n",
       "2                                           Finally home  Positive   \n",
       "3      Would always think fresh grilled cheese wpild ...  Positive   \n",
       "4      @toastling cool friend, let's try to find a da...  Positive   \n",
       "...                                                  ...       ...   \n",
       "70160  Man I'm obsessed with them http://t.co/r0cacrWKN6  Positive   \n",
       "70161  Looking forward to @ChangeDayAus celebrations ...  Positive   \n",
       "70162  @smurf_lola12 glad you are still loving the mo...  Positive   \n",
       "70164                            Massages are the best 👌  Positive   \n",
       "70165  This was a brilliant show on Sunday @shadowele...  Positive   \n",
       "\n",
       "                                               new_tweet  \n",
       "0      happy 6th birthday cheeky girl cat maxxie goos...  \n",
       "1      colourful things things sea air needed splash ...  \n",
       "2                                           finally home  \n",
       "3      would always think fresh grilled cheese wpild ...  \n",
       "4      cool friend let s try find day hang next time ...  \n",
       "...                                                  ...  \n",
       "70160                                   man i m obsessed  \n",
       "70161              looking forward celebrations tomorrow  \n",
       "70162                            glad still loving movie  \n",
       "70164                                      massages best  \n",
       "70165  brilliant show sunday alexcameron indeed took ...  \n",
       "\n",
       "[50097 rows x 3 columns]"
      ]
     },
     "execution_count": 19,
     "metadata": {},
     "output_type": "execute_result"
    }
   ],
   "source": [
    "dfPositive = dfSentiment.loc[dfSentiment['sentiment'] == 'Positive']\n",
    "dfPositive"
   ]
  },
  {
   "cell_type": "code",
   "execution_count": null,
   "id": "70f9d81f",
   "metadata": {},
   "outputs": [
    {
     "data": {
      "application/vnd.jupyter.widget-view+json": {
       "model_id": "ea6b8e6b5cd24793b71a7fbd64b0c8d9",
       "version_major": 2,
       "version_minor": 0
      },
      "text/plain": [
       "Batches:   0%|          | 0/1566 [00:00<?, ?it/s]"
      ]
     },
     "metadata": {},
     "output_type": "display_data"
    }
   ],
   "source": [
    "# start with 10k tweets only\n",
    "embeddingsP = model.encode(list(dfPositive[\"new_tweet\"]), show_progress_bar=True)"
   ]
  },
  {
   "cell_type": "code",
   "execution_count": null,
   "id": "497b9605",
   "metadata": {},
   "outputs": [],
   "source": [
    "pd.to_pickle(embeddingsP, \"./embeddingsP.pkl\")\n",
    "#embeddingsP = pd.read_pickle(\"./embeddingsP.pkl\")"
   ]
  },
  {
   "cell_type": "code",
   "execution_count": 59,
   "id": "0c7ce8b2",
   "metadata": {},
   "outputs": [],
   "source": [
    "import umap\n",
    "umap_embeddingsP = umap.UMAP(n_neighbors=15, \n",
    "                            n_components=5, \n",
    "                            metric='cosine').fit_transform(embeddingsP)"
   ]
  },
  {
   "cell_type": "code",
   "execution_count": 60,
   "id": "017c2c10",
   "metadata": {},
   "outputs": [
    {
     "name": "stdout",
     "output_type": "stream",
     "text": [
      "huggingface/tokenizers: The current process just got forked, after parallelism has already been used. Disabling parallelism to avoid deadlocks...\n",
      "To disable this warning, you can either:\n",
      "\t- Avoid using `tokenizers` before the fork if possible\n",
      "\t- Explicitly set the environment variable TOKENIZERS_PARALLELISM=(true | false)\n",
      "huggingface/tokenizers: The current process just got forked, after parallelism has already been used. Disabling parallelism to avoid deadlocks...\n",
      "To disable this warning, you can either:\n",
      "\t- Avoid using `tokenizers` before the fork if possible\n",
      "\t- Explicitly set the environment variable TOKENIZERS_PARALLELISM=(true | false)\n",
      "huggingface/tokenizers: The current process just got forked, after parallelism has already been used. Disabling parallelism to avoid deadlocks...\n",
      "To disable this warning, you can either:\n",
      "\t- Avoid using `tokenizers` before the fork if possible\n",
      "\t- Explicitly set the environment variable TOKENIZERS_PARALLELISM=(true | false)\n",
      "huggingface/tokenizers: The current process just got forked, after parallelism has already been used. Disabling parallelism to avoid deadlocks...\n",
      "To disable this warning, you can either:\n",
      "\t- Avoid using `tokenizers` before the fork if possible\n",
      "\t- Explicitly set the environment variable TOKENIZERS_PARALLELISM=(true | false)\n"
     ]
    }
   ],
   "source": [
    "import hdbscan\n",
    "clusterP = hdbscan.HDBSCAN(min_cluster_size=15,\n",
    "                          metric='euclidean',                      \n",
    "                          cluster_selection_method='eom').fit(umap_embeddingsP)"
   ]
  },
  {
   "cell_type": "code",
   "execution_count": 61,
   "id": "fcbeb289",
   "metadata": {},
   "outputs": [
    {
     "data": {
      "text/plain": [
       "<matplotlib.colorbar.Colorbar at 0x7fcb1e077730>"
      ]
     },
     "execution_count": 61,
     "metadata": {},
     "output_type": "execute_result"
    },
    {
     "data": {
      "image/png": "[encoded data removed]",
      "text/plain": [
       "<Figure size 1440x720 with 2 Axes>"
      ]
     },
     "metadata": {
      "needs_background": "light"
     },
     "output_type": "display_data"
    }
   ],
   "source": [
    "import matplotlib.pyplot as plt\n",
    "\n",
    "# Prepare data\n",
    "umap_data = umap.UMAP(n_neighbors=15, n_components=2, min_dist=0.0, metric='cosine').fit_transform(embeddingsP)\n",
    "result = pd.DataFrame(umap_data, columns=['x', 'y'])\n",
    "result['labels'] = clusterP.labels_\n",
    "\n",
    "# Visualize clusters\n",
    "fig, ax = plt.subplots(figsize=(20, 10))\n",
    "outliers = result.loc[result.labels == -1, :]\n",
    "clustered = result.loc[result.labels != -1, :]\n",
    "plt.scatter(outliers.x, outliers.y, color='#BDBDBD', s=0.05)\n",
    "plt.scatter(clustered.x, clustered.y, c=clustered.labels, s=0.05, cmap='hsv_r')\n",
    "plt.colorbar()"
   ]
  },
  {
   "cell_type": "code",
   "execution_count": 62,
   "id": "ecf1a7a4",
   "metadata": {},
   "outputs": [],
   "source": [
    "d = list(dfPositive[\"new_tweet\"])"
   ]
  },
  {
   "cell_type": "code",
   "execution_count": 63,
   "id": "0dab5aba",
   "metadata": {},
   "outputs": [],
   "source": [
    "docs_df = pd.DataFrame(d, columns=[\"Doc\"])\n",
    "docs_df['Topic'] = cluster.labels_\n",
    "docs_df['Doc_ID'] = range(len(docs_df))\n",
    "docs_per_topic = docs_df.groupby(['Topic'], as_index = False).agg({'Doc': ' '.join})"
   ]
  },
  {
   "cell_type": "code",
   "execution_count": 64,
   "id": "27a3457e",
   "metadata": {},
   "outputs": [
    {
     "name": "stderr",
     "output_type": "stream",
     "text": [
      "/var/folders/7z/nd77b4fx5n7dt15g2f3msch40000gn/T/ipykernel_82201/1311699670.py:7: RuntimeWarning: invalid value encountered in true_divide\n",
      "  tf = np.divide(t.T, w)\n"
     ]
    }
   ],
   "source": [
    "from sklearn.feature_extraction.text import CountVectorizer\n",
    "\n",
    "def c_tf_idf(documents, m, ngram_range=(1, 1)):\n",
    "    count = CountVectorizer(ngram_range=ngram_range, stop_words=\"english\").fit(documents)\n",
    "    t = count.transform(documents).toarray()\n",
    "    w = t.sum(axis=1)\n",
    "    tf = np.divide(t.T, w)\n",
    "    sum_t = t.sum(axis=0)\n",
    "    idf = np.log(np.divide(m, sum_t)).reshape(-1, 1)\n",
    "    tf_idf = np.multiply(tf, idf)\n",
    "\n",
    "    return tf_idf, count\n",
    "  \n",
    "tf_idf, count = c_tf_idf(docs_per_topic.Doc.values, m=len(data))"
   ]
  },
  {
   "cell_type": "code",
   "execution_count": 65,
   "id": "0397dea6",
   "metadata": {},
   "outputs": [
    {
     "name": "stderr",
     "output_type": "stream",
     "text": [
      "/Users/m.rossi/opt/anaconda3/lib/python3.9/site-packages/sklearn/utils/deprecation.py:87: FutureWarning: Function get_feature_names is deprecated; get_feature_names is deprecated in 1.0 and will be removed in 1.2. Please use get_feature_names_out instead.\n",
      "  warnings.warn(msg, category=FutureWarning)\n"
     ]
    },
    {
     "data": {
      "text/html": [
       "<div>\n",
       "<style scoped>\n",
       "    .dataframe tbody tr th:only-of-type {\n",
       "        vertical-align: middle;\n",
       "    }\n",
       "\n",
       "    .dataframe tbody tr th {\n",
       "        vertical-align: top;\n",
       "    }\n",
       "\n",
       "    .dataframe thead th {\n",
       "        text-align: right;\n",
       "    }\n",
       "</style>\n",
       "<table border=\"1\" class=\"dataframe\">\n",
       "  <thead>\n",
       "    <tr style=\"text-align: right;\">\n",
       "      <th></th>\n",
       "      <th>Topic</th>\n",
       "      <th>Size</th>\n",
       "    </tr>\n",
       "  </thead>\n",
       "  <tbody>\n",
       "    <tr>\n",
       "      <th>0</th>\n",
       "      <td>-1</td>\n",
       "      <td>46521</td>\n",
       "    </tr>\n",
       "    <tr>\n",
       "      <th>1</th>\n",
       "      <td>0</td>\n",
       "      <td>8514</td>\n",
       "    </tr>\n",
       "    <tr>\n",
       "      <th>199</th>\n",
       "      <td>198</td>\n",
       "      <td>2131</td>\n",
       "    </tr>\n",
       "    <tr>\n",
       "      <th>436</th>\n",
       "      <td>435</td>\n",
       "      <td>1293</td>\n",
       "    </tr>\n",
       "    <tr>\n",
       "      <th>186</th>\n",
       "      <td>185</td>\n",
       "      <td>651</td>\n",
       "    </tr>\n",
       "    <tr>\n",
       "      <th>429</th>\n",
       "      <td>428</td>\n",
       "      <td>618</td>\n",
       "    </tr>\n",
       "    <tr>\n",
       "      <th>340</th>\n",
       "      <td>339</td>\n",
       "      <td>560</td>\n",
       "    </tr>\n",
       "    <tr>\n",
       "      <th>419</th>\n",
       "      <td>418</td>\n",
       "      <td>532</td>\n",
       "    </tr>\n",
       "    <tr>\n",
       "      <th>89</th>\n",
       "      <td>88</td>\n",
       "      <td>514</td>\n",
       "    </tr>\n",
       "    <tr>\n",
       "      <th>306</th>\n",
       "      <td>305</td>\n",
       "      <td>485</td>\n",
       "    </tr>\n",
       "  </tbody>\n",
       "</table>\n",
       "</div>"
      ],
      "text/plain": [
       "     Topic   Size\n",
       "0       -1  46521\n",
       "1        0   8514\n",
       "199    198   2131\n",
       "436    435   1293\n",
       "186    185    651\n",
       "429    428    618\n",
       "340    339    560\n",
       "419    418    532\n",
       "89      88    514\n",
       "306    305    485"
      ]
     },
     "execution_count": 65,
     "metadata": {},
     "output_type": "execute_result"
    }
   ],
   "source": [
    "def extract_top_n_words_per_topic(tf_idf, count, docs_per_topic, n=20):\n",
    "    words = count.get_feature_names()\n",
    "    labels = list(docs_per_topic.Topic)\n",
    "    tf_idf_transposed = tf_idf.T\n",
    "    indices = tf_idf_transposed.argsort()[:, -n:]\n",
    "    top_n_words = {label: [(words[j], tf_idf_transposed[i][j]) for j in indices[i]][::-1] for i, label in enumerate(labels)}\n",
    "    return top_n_words\n",
    "\n",
    "def extract_topic_sizes(df):\n",
    "    topic_sizes = (df.groupby(['Topic'])\n",
    "                     .Doc\n",
    "                     .count()\n",
    "                     .reset_index()\n",
    "                     .rename({\"Topic\": \"Topic\", \"Doc\": \"Size\"}, axis='columns')\n",
    "                     .sort_values(\"Size\", ascending=False))\n",
    "    return topic_sizes\n",
    "\n",
    "top_n_words = extract_top_n_words_per_topic(tf_idf, count, docs_per_topic, n=20)\n",
    "topic_sizes = extract_topic_sizes(docs_df); topic_sizes.head(10)"
   ]
  },
  {
   "cell_type": "code",
   "execution_count": 78,
   "id": "771c2a10",
   "metadata": {},
   "outputs": [
    {
     "data": {
      "text/plain": [
       "[('love', 0.03491849944659177),\n",
       " ('good', 0.034116089995017695),\n",
       " ('great', 0.03270032765272582),\n",
       " ('day', 0.025866356706805097),\n",
       " ('melbourne', 0.02511279902173729),\n",
       " ('amp', 0.02441805104775478),\n",
       " ('happy', 0.022316813834486186),\n",
       " ('thanks', 0.021805932217954665),\n",
       " ('best', 0.021236387671307595),\n",
       " ('today', 0.020292213334172624),\n",
       " ('time', 0.017713408535778657),\n",
       " ('amazing', 0.0171073399234435),\n",
       " ('new', 0.016780675553441572),\n",
       " ('night', 0.015318098654563963),\n",
       " ('nice', 0.014258705640811305),\n",
       " ('thank', 0.014249263429018002),\n",
       " ('awesome', 0.013637864602797969),\n",
       " ('really', 0.013264292113717314),\n",
       " ('beautiful', 0.012950307461402357),\n",
       " ('year', 0.012921609090804425)]"
      ]
     },
     "execution_count": 78,
     "metadata": {},
     "output_type": "execute_result"
    }
   ],
   "source": [
    "top_n_words[-1]"
   ]
  },
  {
   "cell_type": "markdown",
   "id": "1eb5d83d",
   "metadata": {},
   "source": [
    "### Topic Modelling - Positive Tweets"
   ]
  },
  {
   "cell_type": "code",
   "execution_count": 20,
   "id": "253eae25",
   "metadata": {},
   "outputs": [
    {
     "data": {
      "text/html": [
       "<div>\n",
       "<style scoped>\n",
       "    .dataframe tbody tr th:only-of-type {\n",
       "        vertical-align: middle;\n",
       "    }\n",
       "\n",
       "    .dataframe tbody tr th {\n",
       "        vertical-align: top;\n",
       "    }\n",
       "\n",
       "    .dataframe thead th {\n",
       "        text-align: right;\n",
       "    }\n",
       "</style>\n",
       "<table border=\"1\" class=\"dataframe\">\n",
       "  <thead>\n",
       "    <tr style=\"text-align: right;\">\n",
       "      <th></th>\n",
       "      <th>tweet</th>\n",
       "      <th>sentiment</th>\n",
       "      <th>new_tweet</th>\n",
       "    </tr>\n",
       "  </thead>\n",
       "  <tbody>\n",
       "    <tr>\n",
       "      <th>6</th>\n",
       "      <td>@yarratrams 109 followed by 12 city bound thro...</td>\n",
       "      <td>Negative</td>\n",
       "      <td>109 followed 12 city bound st vinc seriously t...</td>\n",
       "    </tr>\n",
       "    <tr>\n",
       "      <th>9</th>\n",
       "      <td>@janecat60 @leftocentre @PatsKarvelas Waste of...</td>\n",
       "      <td>Negative</td>\n",
       "      <td>waste everyone s time money</td>\n",
       "    </tr>\n",
       "    <tr>\n",
       "      <th>14</th>\n",
       "      <td>Compensation for #economicrefugees WTF What ab...</td>\n",
       "      <td>Negative</td>\n",
       "      <td>compensation economicrefugees wtf injuredworke...</td>\n",
       "    </tr>\n",
       "    <tr>\n",
       "      <th>16</th>\n",
       "      <td>@chrismurphys it's heartbreaking.</td>\n",
       "      <td>Negative</td>\n",
       "      <td>heartbreaking</td>\n",
       "    </tr>\n",
       "    <tr>\n",
       "      <th>20</th>\n",
       "      <td>Holy crap i dreamed about my death.......</td>\n",
       "      <td>Negative</td>\n",
       "      <td>holy crap dreamed death</td>\n",
       "    </tr>\n",
       "    <tr>\n",
       "      <th>...</th>\n",
       "      <td>...</td>\n",
       "      <td>...</td>\n",
       "      <td>...</td>\n",
       "    </tr>\n",
       "    <tr>\n",
       "      <th>70134</th>\n",
       "      <td>@Telstra my Telstra Asbestos Pit was meant to ...</td>\n",
       "      <td>Negative</td>\n",
       "      <td>telstra asbestos pit meant removed year ago am...</td>\n",
       "    </tr>\n",
       "    <tr>\n",
       "      <th>70143</th>\n",
       "      <td>\"@smh: Helicopter crash kills three French spo...</td>\n",
       "      <td>Negative</td>\n",
       "      <td>helicopter crash kills three french sports per...</td>\n",
       "    </tr>\n",
       "    <tr>\n",
       "      <th>70153</th>\n",
       "      <td>Oh my god... Terrible news. MT @TheLocalFrance...</td>\n",
       "      <td>Negative</td>\n",
       "      <td>oh god terrible news mt french sports stars ki...</td>\n",
       "    </tr>\n",
       "    <tr>\n",
       "      <th>70163</th>\n",
       "      <td>“@girlposts: I NEED TO SEE THIS MOVIE https://...</td>\n",
       "      <td>Negative</td>\n",
       "      <td>need see movie watching trailer makes cry</td>\n",
       "    </tr>\n",
       "    <tr>\n",
       "      <th>70166</th>\n",
       "      <td>Rushed to catch the end of #ifyouaretheone and...</td>\n",
       "      <td>Negative</td>\n",
       "      <td>rushed catch end ifyouaretheone entered truly ...</td>\n",
       "    </tr>\n",
       "  </tbody>\n",
       "</table>\n",
       "<p>20070 rows × 3 columns</p>\n",
       "</div>"
      ],
      "text/plain": [
       "                                                   tweet sentiment  \\\n",
       "6      @yarratrams 109 followed by 12 city bound thro...  Negative   \n",
       "9      @janecat60 @leftocentre @PatsKarvelas Waste of...  Negative   \n",
       "14     Compensation for #economicrefugees WTF What ab...  Negative   \n",
       "16                     @chrismurphys it's heartbreaking.  Negative   \n",
       "20             Holy crap i dreamed about my death.......  Negative   \n",
       "...                                                  ...       ...   \n",
       "70134  @Telstra my Telstra Asbestos Pit was meant to ...  Negative   \n",
       "70143  \"@smh: Helicopter crash kills three French spo...  Negative   \n",
       "70153  Oh my god... Terrible news. MT @TheLocalFrance...  Negative   \n",
       "70163  “@girlposts: I NEED TO SEE THIS MOVIE https://...  Negative   \n",
       "70166  Rushed to catch the end of #ifyouaretheone and...  Negative   \n",
       "\n",
       "                                               new_tweet  \n",
       "6      109 followed 12 city bound st vinc seriously t...  \n",
       "9                            waste everyone s time money  \n",
       "14     compensation economicrefugees wtf injuredworke...  \n",
       "16                                         heartbreaking  \n",
       "20                               holy crap dreamed death  \n",
       "...                                                  ...  \n",
       "70134  telstra asbestos pit meant removed year ago am...  \n",
       "70143  helicopter crash kills three french sports per...  \n",
       "70153  oh god terrible news mt french sports stars ki...  \n",
       "70163          need see movie watching trailer makes cry  \n",
       "70166  rushed catch end ifyouaretheone entered truly ...  \n",
       "\n",
       "[20070 rows x 3 columns]"
      ]
     },
     "execution_count": 20,
     "metadata": {},
     "output_type": "execute_result"
    }
   ],
   "source": [
    "dfNegative = dfSentiment.loc[dfSentiment['sentiment'] == 'Negative']\n",
    "dfNegative"
   ]
  },
  {
   "cell_type": "code",
   "execution_count": null,
   "id": "b2cd57d1",
   "metadata": {},
   "outputs": [],
   "source": [
    "embeddingsN = model.encode(list(dfNegative[\"new_tweet\"]), show_progress_bar=True)"
   ]
  },
  {
   "cell_type": "code",
   "execution_count": null,
   "id": "05453244",
   "metadata": {},
   "outputs": [],
   "source": [
    "pd.to_pickle(embeddingsN, \"./embeddingsN.pkl\")\n",
    "#embeddingsN = pd.read_pickle(\"./embeddingsN.pkl\")"
   ]
  },
  {
   "cell_type": "code",
   "execution_count": null,
   "id": "8f09254e",
   "metadata": {},
   "outputs": [],
   "source": [
    "umap_embeddingsN = umap.UMAP(n_neighbors=15, \n",
    "                            n_components=5, \n",
    "                            metric='cosine').fit_transform(embeddingsN)"
   ]
  },
  {
   "cell_type": "code",
   "execution_count": null,
   "id": "a5be1659",
   "metadata": {},
   "outputs": [],
   "source": [
    "clusterN = hdbscan.HDBSCAN(min_cluster_size=15,\n",
    "                          metric='euclidean',                      \n",
    "                          cluster_selection_method='eom').fit(umap_embeddingsN)"
   ]
  },
  {
   "cell_type": "code",
   "execution_count": null,
   "id": "08175285",
   "metadata": {},
   "outputs": [],
   "source": []
  }
 ],
 "metadata": {
  "kernelspec": {
   "display_name": "Python 3 (ipykernel)",
   "language": "python",
   "name": "python3"
  },
  "language_info": {
   "codemirror_mode": {
    "name": "ipython",
    "version": 3
   },
   "file_extension": ".py",
   "mimetype": "text/x-python",
   "name": "python",
   "nbconvert_exporter": "python",
   "pygments_lexer": "ipython3",
   "version": "3.9.7"
  }
 },
 "nbformat": 4,
 "nbformat_minor": 5
}
